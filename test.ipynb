{
 "cells": [
  {
   "cell_type": "code",
   "execution_count": 7,
   "metadata": {},
   "outputs": [],
   "source": [
    "from numpy import genfromtxt\n",
    "\n",
    "data = genfromtxt('C:\\\\Users\\\\Daniil\\\\Documents\\\\Git\\\\vkr\\\\tools\\\\converted_dataset.csv', delimiter=\",\",\n",
    "                  max_rows=100000)\n"
   ]
  },
  {
   "cell_type": "code",
   "execution_count": 8,
   "metadata": {},
   "outputs": [],
   "source": [
    "from sklearn.model_selection import train_test_split\n",
    "X = data[:, :-1]\n",
    "y = data[:,-1:]\n",
    "y = y.reshape(y.shape[0])\n",
    "X_train, X_test, y_train, y_test = train_test_split(X, y, random_state=42)"
   ]
  },
  {
   "cell_type": "code",
   "execution_count": 37,
   "metadata": {},
   "outputs": [
    {
     "name": "stdout",
     "output_type": "stream",
     "text": [
      "0.8471801091570649\n{'criterion': 'entropy', 'max_features': 'log2', 'n_estimators': 300}\n"
     ]
    }
   ],
   "source": [
    "from sklearn.ensemble import RandomForestClassifier\n",
    "from sklearn.model_selection import GridSearchCV\n",
    "param_grid = {\n",
    "    'n_estimators': range(100,500,100),\n",
    "    'criterion': ['gini', 'entropy'],\n",
    "    'max_features': ['sqrt', 'log2', None]\n",
    "}\n",
    "\n",
    "rf = RandomForestClassifier(criterion='entropy', max_features = 'log2', n_estimators= 300)\n",
    "rf.fit(X, y)\n",
    "print(rf.best_score_)\n",
    "print(rf.best_params_)"
   ]
  },
  {
   "cell_type": "code",
   "execution_count": 9,
   "metadata": {},
   "outputs": [
    {
     "data": {
      "text/plain": [
       "RandomForestClassifier(bootstrap=True, class_weight=None, criterion='entropy',\n            max_depth=None, max_features='log2', max_leaf_nodes=None,\n            min_impurity_decrease=0.0, min_impurity_split=None,\n            min_samples_leaf=1, min_samples_split=2,\n            min_weight_fraction_leaf=0.0, n_estimators=300, n_jobs=1,\n            oob_score=False, random_state=None, verbose=0,\n            warm_start=False)"
      ]
     },
     "execution_count": 9,
     "metadata": {},
     "output_type": "execute_result"
    }
   ],
   "source": [
    "from sklearn.ensemble import RandomForestClassifier\n",
    "\n",
    "rf = RandomForestClassifier(criterion='entropy', max_features = 'log2', n_estimators= 300)\n",
    "rf.fit(X_train, y_train)"
   ]
  },
  {
   "cell_type": "code",
   "execution_count": 4,
   "metadata": {},
   "outputs": [
    {
     "data": {
      "text/plain": [
       "0.81916"
      ]
     },
     "execution_count": 4,
     "metadata": {},
     "output_type": "execute_result"
    }
   ],
   "source": [
    "from sklearn.metrics import accuracy_score\n",
    "y_pred = rf.predict(X_test)\n",
    "accuracy_score(y_test, y_pred)"
   ]
  },
  {
   "cell_type": "code",
   "execution_count": null,
   "metadata": {},
   "outputs": [],
   "source": [
    "{'criterion': 'entropy', 'max_features': 'log2', 'n_estimators': 300}"
   ]
  },
  {
   "cell_type": "code",
   "execution_count": 13,
   "metadata": {},
   "outputs": [
    {
     "name": "stdout",
     "output_type": "stream",
     "text": [
      "22050\n(24, 3040)\n"
     ]
    }
   ],
   "source": [
    "import matplotlib.pyplot as plt\n",
    "import librosa\n",
    "import numpy as np\n",
    "#y, sr = librosa.load('C:/Users/Daniil/Documents/Git/vkr/data/guitar_test.wav')\n",
    "y, sr = librosa.load('C:/Users/Daniil/Documents/Git/vkr/data/isophonic/The Beatles/wav/05 - Help (1965)/01 - Help!.wav')\n",
    "C = np.abs(librosa.cqt(y, sr=sr, n_bins=24, hop_length=1024))\n",
    "print(sr)\n",
    "print(C.shape)\n",
    "#librosa.display.specshow(librosa.amplitude_to_db(C, ref=np.max),sr=sr, x_axis='time', y_axis='cqt_note')\n",
    "#plt.colorbar(format='%+2.0f dB')\n",
    "#plt.title('Constant-Q power spectrum')\n",
    "#plt.tight_layout()"
   ]
  },
  {
   "cell_type": "code",
   "execution_count": 10,
   "metadata": {},
   "outputs": [
    {
     "data": {
      "text/plain": [
       "Counter({0.0: 276})"
      ]
     },
     "execution_count": 10,
     "metadata": {},
     "output_type": "execute_result"
    }
   ],
   "source": [
    "pred = rf.predict(C.T)\n",
    "from collections import Counter\n",
    "Counter(pred)"
   ]
  },
  {
   "cell_type": "code",
   "execution_count": 11,
   "metadata": {
    "collapsed": false
   },
   "outputs": [
    {
     "name": "stdout",
     "output_type": "stream",
     "text": [
      "1024\n"
     ]
    },
    {
     "name": "stdout",
     "output_type": "stream",
     "text": [
      "(3788, 24)\n0\n0\n56\n5\n56\n247\n10\n247\n278\n5\n278\n376\n12\n376\n440\n5\n440\n472\n5\n472\n503\n10\n503\n535\n10\n535\n567\n5\n567\n600\n12\n600\n632\n5\n632\n760\n10\n760\n793\n5\n793\n889\n12\n889\n953\n5\n953\n985\n5\n985\n1017\n10\n1017\n1049\n10\n1049\n1080\n5\n1080\n1112\n12\n1112\n1144\n5\n1144\n1208\n10\n1208\n1403\n12\n1403\n1468\n10\n1468\n1533\n5\n1533\n1598\n10\n1598\n1630\n5\n1630\n1728\n12\n1728\n1792\n5\n1792\n1857\n10\n1857\n1889\n10\n1889\n1922\n5\n1922\n1954\n12\n1954\n1984\n5\n1984\n2242\n12\n2242\n2307\n5\n2307\n2373\n10\n2373\n2436\n5\n2436\n2468\n12\n2468\n2500\n5\n2500\n2561\n10\n2561\n2757\n12\n2757\n2822\n10\n2822\n2886\n5\n2886\n2951\n10\n2951\n2982\n5\n2982\n3081\n12\n3081\n3145\n5\n3145\n3177\n5\n3177\n3210\n10\n3210\n3241\n10\n3241\n3274\n5\n3274\n3306\n12\n3306\n3339\n5\n3339\n3435\n12\n3435\n3468\n5\n3468\n3566\n12\n3566\n3599\n10\n3599\n3632\n5\n3632\n3655\n5\n3655\n3697\n0\n3697\n3786\n"
     ]
    }
   ],
   "source": [
    "from tools.convert_datasets import convert_song\n",
    "\n",
    "ishst = convert_song(\n",
    "    'C:/Users/Daniil/Documents/Git/vkr/data/isophonic/The Beatles/audio/01_-_Please_Please_Me/01_-_I_Saw_Her_Standing_There.wav',\n",
    "    'C:/Users/Daniil/Documents/Git/vkr/data/isophonic/The Beatles/chords/01_-_Please_Please_Me/01_-_I_Saw_Her_Standing_There.lab')\n"
   ]
  },
  {
   "cell_type": "code",
   "execution_count": 6,
   "metadata": {},
   "outputs": [
    {
     "name": "stdout",
     "output_type": "stream",
     "text": [
      "[ 0.14238172  0.05246959  0.02129267  0.07632139  0.10463825  0.1348977\n  0.2844403   0.28630248  0.10251798  0.31962014  1.31641606  1.83707173\n  0.71770973  0.25119559  0.36359585  0.38152361  0.59557072  2.7963596\n  3.80808308  2.51917684  0.91172029  0.42951421  0.77477956  0.76187676\n 12.        ]\n"
     ]
    }
   ],
   "source": [
    "print(ishst[3100])"
   ]
  },
  {
   "cell_type": "code",
   "execution_count": 25,
   "metadata": {},
   "outputs": [],
   "source": [
    "import numpy as np\n",
    "ishst = np.asarray(ishst)\n",
    "X = ishst[:, :-1]\n",
    "y = ishst[:,-1:]"
   ]
  },
  {
   "cell_type": "code",
   "execution_count": 26,
   "metadata": {},
   "outputs": [
    {
     "name": "stdout",
     "output_type": "stream",
     "text": [
      "(3786, 1)\n"
     ]
    }
   ],
   "source": [
    "print(y.shape)"
   ]
  },
  {
   "cell_type": "code",
   "execution_count": 27,
   "metadata": {},
   "outputs": [
    {
     "data": {
      "text/plain": [
       "0.13946117274167988"
      ]
     },
     "execution_count": 27,
     "metadata": {},
     "output_type": "execute_result"
    }
   ],
   "source": [
    "from sklearn.metrics import accuracy_score\n",
    "y_pred = rf.predict(X)\n",
    "accuracy_score(y, y_pred)"
   ]
  },
  {
   "cell_type": "code",
   "execution_count": 19,
   "metadata": {},
   "outputs": [],
   "source": [
    "from models import RandomForest\n",
    "from utils.dataloader import get_dataloader\n",
    "\n",
    "rf = RandomForest()\n",
    "dataloader = get_dataloader('C:/Users/Daniil/Documents/Git/vkr/data/billboard/converted_dataset.csv')"
   ]
  },
  {
   "cell_type": "code",
   "execution_count": 20,
   "metadata": {},
   "outputs": [],
   "source": [
    "for data in dataloader:\n",
    "    inputs, labels = data\n",
    "    rf.fit(inputs, labels)"
   ]
  },
  {
   "cell_type": "code",
   "execution_count": 7,
   "metadata": {},
   "outputs": [
    {
     "ename": "NameError",
     "evalue": "name 'pickle' is not defined",
     "traceback": [
      "\u001b[1;31m---------------------------------------------------------------------------\u001b[0m",
      "\u001b[1;31mNameError\u001b[0m                                 Traceback (most recent call last)",
      "\u001b[1;32m<ipython-input-7-b5a86a582c5d>\u001b[0m in \u001b[0;36m<module>\u001b[1;34m()\u001b[0m\n\u001b[0;32m      1\u001b[0m \u001b[0mfilename\u001b[0m \u001b[1;33m=\u001b[0m \u001b[1;34m'finalized_model.sav'\u001b[0m\u001b[1;33m\u001b[0m\u001b[0m\n\u001b[1;32m----> 2\u001b[1;33m \u001b[0mpickle\u001b[0m\u001b[1;33m.\u001b[0m\u001b[0mdump\u001b[0m\u001b[1;33m(\u001b[0m\u001b[0mmodel\u001b[0m\u001b[1;33m,\u001b[0m \u001b[0mopen\u001b[0m\u001b[1;33m(\u001b[0m\u001b[0mfilename\u001b[0m\u001b[1;33m,\u001b[0m \u001b[1;34m'wb'\u001b[0m\u001b[1;33m)\u001b[0m\u001b[1;33m)\u001b[0m\u001b[1;33m\u001b[0m\u001b[0m\n\u001b[0m",
      "\u001b[1;31mNameError\u001b[0m: name 'pickle' is not defined"
     ],
     "output_type": "error"
    }
   ],
   "source": [
    "import pickle\n",
    "filename = 'finalized_model.sav'\n",
    "pickle.dump(model, open(filename, 'wb'))"
   ]
  },
  {
   "cell_type": "code",
   "execution_count": null,
   "metadata": {},
   "outputs": [],
   "source": []
  },
  {
   "cell_type": "code",
   "execution_count": 15,
   "metadata": {},
   "outputs": [],
   "source": [
    "import pandas as pd\n",
    "data1 = pd.read_csv('C:/Users/Daniil/Documents/Git/vkr/data/billboard/converted_dataset.csv', header = None)"
   ]
  },
  {
   "cell_type": "code",
   "execution_count": 17,
   "metadata": {},
   "outputs": [],
   "source": [
    "a = data1.iloc[5, :-1].values"
   ]
  },
  {
   "cell_type": "code",
   "execution_count": 18,
   "metadata": {},
   "outputs": [
    {
     "name": "stdout",
     "output_type": "stream",
     "text": [
      "[0.165807  0.        0.455848  0.965423  0.        1.23244   0.\n 0.0548296 0.0342342 0.866962  0.        0.384071  0.803326  0.0319904\n 0.640045  1.76265   0.        1.60488   0.        0.210607  0.214704\n 0.476254  0.705456  1.14895  ]\n"
     ]
    }
   ],
   "source": [
    "print(a)"
   ]
  },
  {
   "cell_type": "code",
   "execution_count": null,
   "metadata": {},
   "outputs": [],
   "source": []
  }
 ],
 "metadata": {
  "kernelspec": {
   "display_name": "Python 2",
   "language": "python",
   "name": "python2"
  },
  "language_info": {
   "codemirror_mode": {
    "name": "ipython",
    "version": 2
   },
   "file_extension": ".py",
   "mimetype": "text/x-python",
   "name": "python",
   "nbconvert_exporter": "python",
   "pygments_lexer": "ipython2",
   "version": "2.7.6"
  }
 },
 "nbformat": 4,
 "nbformat_minor": 0
}
